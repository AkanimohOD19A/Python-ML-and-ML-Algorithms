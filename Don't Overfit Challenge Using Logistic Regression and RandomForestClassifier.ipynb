{
 "cells": [
  {
   "cell_type": "markdown",
   "metadata": {},
   "source": [
    "# 2"
   ]
  },
  {
   "cell_type": "code",
   "execution_count": 1,
   "metadata": {},
   "outputs": [],
   "source": [
    "# Load Libraries\n",
    "\n",
    "import pandas as pd\n",
    "import numpy as np\n",
    "import matplotlib.pyplot as plt\n",
    "import seaborn as sns\n",
    "\n",
    "from sklearn import linear_model\n",
    "from sklearn.model_selection import train_test_split, cross_val_score, StratifiedKFold, KFold, GridSearchCV\n",
    "from sklearn.metrics import classification_report, confusion_matrix, accuracy_score, f1_score\n",
    "from sklearn.metrics import precision_score, recall_score, roc_auc_score\n",
    "from sklearn.linear_model import LogisticRegression\n",
    "from sklearn.tree import DecisionTreeClassifier\n",
    "from sklearn.neighbors import KNeighborsClassifier\n",
    "from sklearn.discriminant_analysis import LinearDiscriminantAnalysis\n",
    "from sklearn.ensemble import RandomForestClassifier, AdaBoostClassifier\n",
    "from sklearn.naive_bayes import GaussianNB\n",
    "from sklearn.svm import SVC\n",
    "\n",
    "import warnings\n",
    "warnings.filterwarnings('ignore')"
   ]
  },
  {
   "cell_type": "code",
   "execution_count": 2,
   "metadata": {},
   "outputs": [],
   "source": [
    "test_Df = pd.read_csv(\"C:/Users/HP/Documents/ML/Py_Dataset/dont-overfit-ii/test.csv\")\n",
    "train_Df = pd.read_csv(\"C:/Users/HP/Documents/ML/Py_Dataset/dont-overfit-ii/train.csv\")"
   ]
  },
  {
   "cell_type": "code",
   "execution_count": 3,
   "metadata": {},
   "outputs": [
    {
     "data": {
      "text/plain": [
       "((19750, 301), (250, 302))"
      ]
     },
     "execution_count": 3,
     "metadata": {},
     "output_type": "execute_result"
    }
   ],
   "source": [
    "test_Df.shape, train_Df.shape"
   ]
  },
  {
   "cell_type": "code",
   "execution_count": 4,
   "metadata": {},
   "outputs": [
    {
     "name": "stdout",
     "output_type": "stream",
     "text": [
      "target\n"
     ]
    }
   ],
   "source": [
    "# What are the columns in Train but not in Test\n",
    "features = []\n",
    "features_2 = []\n",
    "for col in train_Df.columns:\n",
    "    features.append(col)\n",
    "for col2 in test_Df.columns:\n",
    "    features_2.append(col2)\n",
    "for a in features:\n",
    "    if (a not in features_2):\n",
    "        print(a)"
   ]
  },
  {
   "cell_type": "code",
   "execution_count": 5,
   "metadata": {
    "scrolled": true
   },
   "outputs": [
    {
     "data": {
      "text/plain": [
       "(    id      0      1      2      3      4      5      6      7      8  ...    \\\n",
       " 0  250 -0.677  1.721 -0.745 -0.838  0.149 -1.138  0.242  0.504 -1.829  ...     \n",
       " 1  251 -0.731 -0.251  0.059  0.054  1.149  2.462  0.836  0.719 -2.269  ...     \n",
       " 2  252  1.119  1.036  1.220  1.518  0.265 -0.088  0.245 -0.533 -0.921  ...     \n",
       " 3  253 -0.933  0.212 -0.053  0.570 -1.540 -1.108  0.462  1.022 -0.215  ...     \n",
       " 4  254 -0.208 -0.556  2.641  0.853 -0.384  0.312  0.514  0.481 -1.929  ...     \n",
       " \n",
       "      290    291    292    293    294    295    296    297    298    299  \n",
       " 0 -1.180 -0.403  0.759 -0.600  0.951 -0.349  0.446 -0.819 -0.277  1.297  \n",
       " 1  1.297  1.114  0.657  0.760  0.899 -1.612 -1.701  1.107 -0.314 -0.641  \n",
       " 2 -0.864 -0.736  0.367  0.154  0.830 -1.352  0.914  0.377  0.588 -0.912  \n",
       " 3  0.063 -0.958  0.762 -0.213 -2.171  0.830  1.435  0.125  2.782  0.619  \n",
       " 4 -0.689  0.213  0.568 -0.935 -0.015  0.267  0.739  1.340 -0.178  1.010  \n",
       " \n",
       " [5 rows x 301 columns],\n",
       "    id  target      0      1      2      3      4      5      6      7  ...    \\\n",
       " 0   0     1.0 -1.067 -1.114 -0.616  0.376  1.090  0.467 -0.422  0.460  ...     \n",
       " 1   1     0.0 -0.831  0.271  1.716  1.096  1.731 -0.197  1.904 -0.265  ...     \n",
       " 2   2     0.0  0.099  1.390 -0.732 -1.065  0.005 -0.081 -1.450  0.317  ...     \n",
       " 3   3     1.0 -0.989 -0.916 -1.343  0.145  0.543  0.636  1.127  0.189  ...     \n",
       " 4   4     0.0  0.811 -1.509  0.522 -0.360 -0.220 -0.959  0.334 -0.566  ...     \n",
       " \n",
       "      290    291    292    293    294    295    296    297    298    299  \n",
       " 0  0.220 -0.339  0.254 -0.179  0.352  0.125  0.347  0.436  0.958 -0.824  \n",
       " 1 -0.765 -0.735 -1.158  2.554  0.856 -1.506  0.462 -0.029 -1.932 -0.343  \n",
       " 2 -1.311  0.799 -1.001  1.544  0.575 -0.309 -0.339 -0.148 -0.646  0.725  \n",
       " 3 -1.370  1.093  0.596 -0.589 -0.649 -0.163 -0.958 -1.081  0.805  3.401  \n",
       " 4 -0.178  0.718 -1.017  1.249 -0.596 -0.445  1.751  1.442 -0.393 -0.643  \n",
       " \n",
       " [5 rows x 302 columns])"
      ]
     },
     "execution_count": 5,
     "metadata": {},
     "output_type": "execute_result"
    }
   ],
   "source": [
    "test_Df.head(), train_Df.head()"
   ]
  },
  {
   "cell_type": "code",
   "execution_count": 6,
   "metadata": {},
   "outputs": [
    {
     "data": {
      "text/html": [
       "<div>\n",
       "<style scoped>\n",
       "    .dataframe tbody tr th:only-of-type {\n",
       "        vertical-align: middle;\n",
       "    }\n",
       "\n",
       "    .dataframe tbody tr th {\n",
       "        vertical-align: top;\n",
       "    }\n",
       "\n",
       "    .dataframe thead th {\n",
       "        text-align: right;\n",
       "    }\n",
       "</style>\n",
       "<table border=\"1\" class=\"dataframe\">\n",
       "  <thead>\n",
       "    <tr style=\"text-align: right;\">\n",
       "      <th></th>\n",
       "      <th>id</th>\n",
       "      <th>0</th>\n",
       "      <th>1</th>\n",
       "      <th>2</th>\n",
       "      <th>3</th>\n",
       "      <th>4</th>\n",
       "      <th>5</th>\n",
       "      <th>6</th>\n",
       "      <th>7</th>\n",
       "      <th>8</th>\n",
       "      <th>...</th>\n",
       "      <th>290</th>\n",
       "      <th>291</th>\n",
       "      <th>292</th>\n",
       "      <th>293</th>\n",
       "      <th>294</th>\n",
       "      <th>295</th>\n",
       "      <th>296</th>\n",
       "      <th>297</th>\n",
       "      <th>298</th>\n",
       "      <th>299</th>\n",
       "    </tr>\n",
       "  </thead>\n",
       "  <tbody>\n",
       "    <tr>\n",
       "      <th>count</th>\n",
       "      <td>19750.000000</td>\n",
       "      <td>19750.000000</td>\n",
       "      <td>19750.000000</td>\n",
       "      <td>19750.000000</td>\n",
       "      <td>19750.000000</td>\n",
       "      <td>19750.000000</td>\n",
       "      <td>19750.000000</td>\n",
       "      <td>19750.000000</td>\n",
       "      <td>19750.000000</td>\n",
       "      <td>19750.000000</td>\n",
       "      <td>...</td>\n",
       "      <td>19750.000000</td>\n",
       "      <td>19750.000000</td>\n",
       "      <td>19750.000000</td>\n",
       "      <td>19750.000000</td>\n",
       "      <td>19750.000000</td>\n",
       "      <td>19750.000000</td>\n",
       "      <td>19750.000000</td>\n",
       "      <td>19750.000000</td>\n",
       "      <td>19750.000000</td>\n",
       "      <td>19750.000000</td>\n",
       "    </tr>\n",
       "    <tr>\n",
       "      <th>mean</th>\n",
       "      <td>10124.500000</td>\n",
       "      <td>0.010933</td>\n",
       "      <td>-0.005470</td>\n",
       "      <td>0.003176</td>\n",
       "      <td>-0.000584</td>\n",
       "      <td>-0.011377</td>\n",
       "      <td>0.001225</td>\n",
       "      <td>0.008716</td>\n",
       "      <td>-0.003512</td>\n",
       "      <td>-0.005035</td>\n",
       "      <td>...</td>\n",
       "      <td>0.002145</td>\n",
       "      <td>0.004692</td>\n",
       "      <td>0.004862</td>\n",
       "      <td>-0.002706</td>\n",
       "      <td>0.004469</td>\n",
       "      <td>-0.003974</td>\n",
       "      <td>-0.003001</td>\n",
       "      <td>-0.005502</td>\n",
       "      <td>0.011342</td>\n",
       "      <td>0.004954</td>\n",
       "    </tr>\n",
       "    <tr>\n",
       "      <th>std</th>\n",
       "      <td>5701.478244</td>\n",
       "      <td>0.997062</td>\n",
       "      <td>1.002163</td>\n",
       "      <td>1.001684</td>\n",
       "      <td>0.992821</td>\n",
       "      <td>0.997261</td>\n",
       "      <td>1.002442</td>\n",
       "      <td>1.003023</td>\n",
       "      <td>1.004868</td>\n",
       "      <td>0.998808</td>\n",
       "      <td>...</td>\n",
       "      <td>1.000769</td>\n",
       "      <td>0.999980</td>\n",
       "      <td>0.998581</td>\n",
       "      <td>0.993671</td>\n",
       "      <td>0.996648</td>\n",
       "      <td>1.008269</td>\n",
       "      <td>1.002226</td>\n",
       "      <td>0.996583</td>\n",
       "      <td>1.003967</td>\n",
       "      <td>0.998843</td>\n",
       "    </tr>\n",
       "    <tr>\n",
       "      <th>min</th>\n",
       "      <td>250.000000</td>\n",
       "      <td>-4.109000</td>\n",
       "      <td>-4.613000</td>\n",
       "      <td>-3.749000</td>\n",
       "      <td>-3.685000</td>\n",
       "      <td>-3.711000</td>\n",
       "      <td>-3.911000</td>\n",
       "      <td>-4.863000</td>\n",
       "      <td>-3.879000</td>\n",
       "      <td>-4.051000</td>\n",
       "      <td>...</td>\n",
       "      <td>-4.444000</td>\n",
       "      <td>-3.879000</td>\n",
       "      <td>-3.919000</td>\n",
       "      <td>-3.632000</td>\n",
       "      <td>-3.783000</td>\n",
       "      <td>-3.950000</td>\n",
       "      <td>-4.052000</td>\n",
       "      <td>-3.695000</td>\n",
       "      <td>-3.760000</td>\n",
       "      <td>-3.740000</td>\n",
       "    </tr>\n",
       "    <tr>\n",
       "      <th>25%</th>\n",
       "      <td>5187.250000</td>\n",
       "      <td>-0.667000</td>\n",
       "      <td>-0.673000</td>\n",
       "      <td>-0.669000</td>\n",
       "      <td>-0.673750</td>\n",
       "      <td>-0.678750</td>\n",
       "      <td>-0.683750</td>\n",
       "      <td>-0.670000</td>\n",
       "      <td>-0.674000</td>\n",
       "      <td>-0.691000</td>\n",
       "      <td>...</td>\n",
       "      <td>-0.676000</td>\n",
       "      <td>-0.668000</td>\n",
       "      <td>-0.680000</td>\n",
       "      <td>-0.680000</td>\n",
       "      <td>-0.670000</td>\n",
       "      <td>-0.686000</td>\n",
       "      <td>-0.681000</td>\n",
       "      <td>-0.683000</td>\n",
       "      <td>-0.675750</td>\n",
       "      <td>-0.667000</td>\n",
       "    </tr>\n",
       "    <tr>\n",
       "      <th>50%</th>\n",
       "      <td>10124.500000</td>\n",
       "      <td>0.017000</td>\n",
       "      <td>-0.006000</td>\n",
       "      <td>-0.000000</td>\n",
       "      <td>-0.004500</td>\n",
       "      <td>-0.013000</td>\n",
       "      <td>0.000000</td>\n",
       "      <td>0.014000</td>\n",
       "      <td>-0.003000</td>\n",
       "      <td>-0.010000</td>\n",
       "      <td>...</td>\n",
       "      <td>0.004000</td>\n",
       "      <td>0.006000</td>\n",
       "      <td>0.005000</td>\n",
       "      <td>-0.006000</td>\n",
       "      <td>0.003000</td>\n",
       "      <td>-0.001000</td>\n",
       "      <td>0.004000</td>\n",
       "      <td>-0.016000</td>\n",
       "      <td>0.009500</td>\n",
       "      <td>0.009500</td>\n",
       "    </tr>\n",
       "    <tr>\n",
       "      <th>75%</th>\n",
       "      <td>15061.750000</td>\n",
       "      <td>0.689000</td>\n",
       "      <td>0.674000</td>\n",
       "      <td>0.675000</td>\n",
       "      <td>0.660000</td>\n",
       "      <td>0.661000</td>\n",
       "      <td>0.676000</td>\n",
       "      <td>0.694750</td>\n",
       "      <td>0.670000</td>\n",
       "      <td>0.667000</td>\n",
       "      <td>...</td>\n",
       "      <td>0.681000</td>\n",
       "      <td>0.677000</td>\n",
       "      <td>0.684750</td>\n",
       "      <td>0.665000</td>\n",
       "      <td>0.682750</td>\n",
       "      <td>0.675750</td>\n",
       "      <td>0.668000</td>\n",
       "      <td>0.666750</td>\n",
       "      <td>0.692000</td>\n",
       "      <td>0.676000</td>\n",
       "    </tr>\n",
       "    <tr>\n",
       "      <th>max</th>\n",
       "      <td>19999.000000</td>\n",
       "      <td>3.775000</td>\n",
       "      <td>3.725000</td>\n",
       "      <td>3.922000</td>\n",
       "      <td>3.969000</td>\n",
       "      <td>3.806000</td>\n",
       "      <td>3.744000</td>\n",
       "      <td>3.733000</td>\n",
       "      <td>4.199000</td>\n",
       "      <td>3.475000</td>\n",
       "      <td>...</td>\n",
       "      <td>4.072000</td>\n",
       "      <td>3.911000</td>\n",
       "      <td>3.580000</td>\n",
       "      <td>3.823000</td>\n",
       "      <td>3.643000</td>\n",
       "      <td>5.042000</td>\n",
       "      <td>3.798000</td>\n",
       "      <td>3.779000</td>\n",
       "      <td>4.190000</td>\n",
       "      <td>3.796000</td>\n",
       "    </tr>\n",
       "  </tbody>\n",
       "</table>\n",
       "<p>8 rows × 301 columns</p>\n",
       "</div>"
      ],
      "text/plain": [
       "                 id             0             1             2             3  \\\n",
       "count  19750.000000  19750.000000  19750.000000  19750.000000  19750.000000   \n",
       "mean   10124.500000      0.010933     -0.005470      0.003176     -0.000584   \n",
       "std     5701.478244      0.997062      1.002163      1.001684      0.992821   \n",
       "min      250.000000     -4.109000     -4.613000     -3.749000     -3.685000   \n",
       "25%     5187.250000     -0.667000     -0.673000     -0.669000     -0.673750   \n",
       "50%    10124.500000      0.017000     -0.006000     -0.000000     -0.004500   \n",
       "75%    15061.750000      0.689000      0.674000      0.675000      0.660000   \n",
       "max    19999.000000      3.775000      3.725000      3.922000      3.969000   \n",
       "\n",
       "                  4             5             6             7             8  \\\n",
       "count  19750.000000  19750.000000  19750.000000  19750.000000  19750.000000   \n",
       "mean      -0.011377      0.001225      0.008716     -0.003512     -0.005035   \n",
       "std        0.997261      1.002442      1.003023      1.004868      0.998808   \n",
       "min       -3.711000     -3.911000     -4.863000     -3.879000     -4.051000   \n",
       "25%       -0.678750     -0.683750     -0.670000     -0.674000     -0.691000   \n",
       "50%       -0.013000      0.000000      0.014000     -0.003000     -0.010000   \n",
       "75%        0.661000      0.676000      0.694750      0.670000      0.667000   \n",
       "max        3.806000      3.744000      3.733000      4.199000      3.475000   \n",
       "\n",
       "           ...                290           291           292           293  \\\n",
       "count      ...       19750.000000  19750.000000  19750.000000  19750.000000   \n",
       "mean       ...           0.002145      0.004692      0.004862     -0.002706   \n",
       "std        ...           1.000769      0.999980      0.998581      0.993671   \n",
       "min        ...          -4.444000     -3.879000     -3.919000     -3.632000   \n",
       "25%        ...          -0.676000     -0.668000     -0.680000     -0.680000   \n",
       "50%        ...           0.004000      0.006000      0.005000     -0.006000   \n",
       "75%        ...           0.681000      0.677000      0.684750      0.665000   \n",
       "max        ...           4.072000      3.911000      3.580000      3.823000   \n",
       "\n",
       "                294           295           296           297           298  \\\n",
       "count  19750.000000  19750.000000  19750.000000  19750.000000  19750.000000   \n",
       "mean       0.004469     -0.003974     -0.003001     -0.005502      0.011342   \n",
       "std        0.996648      1.008269      1.002226      0.996583      1.003967   \n",
       "min       -3.783000     -3.950000     -4.052000     -3.695000     -3.760000   \n",
       "25%       -0.670000     -0.686000     -0.681000     -0.683000     -0.675750   \n",
       "50%        0.003000     -0.001000      0.004000     -0.016000      0.009500   \n",
       "75%        0.682750      0.675750      0.668000      0.666750      0.692000   \n",
       "max        3.643000      5.042000      3.798000      3.779000      4.190000   \n",
       "\n",
       "                299  \n",
       "count  19750.000000  \n",
       "mean       0.004954  \n",
       "std        0.998843  \n",
       "min       -3.740000  \n",
       "25%       -0.667000  \n",
       "50%        0.009500  \n",
       "75%        0.676000  \n",
       "max        3.796000  \n",
       "\n",
       "[8 rows x 301 columns]"
      ]
     },
     "execution_count": 6,
     "metadata": {},
     "output_type": "execute_result"
    }
   ],
   "source": [
    "test_Df.describe()"
   ]
  },
  {
   "cell_type": "code",
   "execution_count": 7,
   "metadata": {},
   "outputs": [
    {
     "data": {
      "text/plain": [
       "count    250.000000\n",
       "mean       0.268000\n",
       "std        0.443806\n",
       "min        0.000000\n",
       "25%        0.000000\n",
       "50%        0.000000\n",
       "75%        1.000000\n",
       "max        1.000000\n",
       "Name: target, dtype: float64"
      ]
     },
     "execution_count": 7,
     "metadata": {},
     "output_type": "execute_result"
    }
   ],
   "source": [
    "train_Df['target'].describe() "
   ]
  },
  {
   "cell_type": "markdown",
   "metadata": {},
   "source": [
    "#### Our Predictor is Binary,  with no missing value, Ordinarily I think a Logistic Regression model is appropriate."
   ]
  },
  {
   "cell_type": "code",
   "execution_count": 8,
   "metadata": {},
   "outputs": [],
   "source": [
    "# Checking for missing values\n",
    "def count_missing(df):\n",
    "    for col in df.columns:\n",
    "        if df[col].isna().sum() > 0:\n",
    "            return col\n",
    "    else:\n",
    "        print(\"Data is clean\")"
   ]
  },
  {
   "cell_type": "code",
   "execution_count": 9,
   "metadata": {
    "scrolled": true
   },
   "outputs": [
    {
     "name": "stdout",
     "output_type": "stream",
     "text": [
      "Data is clean\n",
      "Data is clean\n"
     ]
    },
    {
     "data": {
      "text/plain": [
       "(None, None)"
      ]
     },
     "execution_count": 9,
     "metadata": {},
     "output_type": "execute_result"
    }
   ],
   "source": [
    "count_missing(test_Df), count_missing(train_Df)"
   ]
  },
  {
   "cell_type": "code",
   "execution_count": 10,
   "metadata": {},
   "outputs": [
    {
     "name": "stdout",
     "output_type": "stream",
     "text": [
      "target\n",
      "0.0    183\n",
      "1.0     67\n",
      "dtype: int64\n"
     ]
    }
   ],
   "source": [
    "# Class Distribution\n",
    "print(train_Df.groupby('target').size())"
   ]
  },
  {
   "cell_type": "raw",
   "metadata": {},
   "source": [
    "This distribution is our first indicator of an overfitting, because of the overwhelming presence of class in our training dataset"
   ]
  },
  {
   "cell_type": "code",
   "execution_count": 11,
   "metadata": {
    "scrolled": true
   },
   "outputs": [
    {
     "data": {
      "image/png": "[encoded data removed]",
      "text/plain": [
       "<Figure size 432x288 with 1 Axes>"
      ]
     },
     "metadata": {
      "needs_background": "light"
     },
     "output_type": "display_data"
    }
   ],
   "source": [
    "# Predictor\n",
    "sns.countplot(train_Df['target'], label = 'Count')\n",
    "plt.show()"
   ]
  },
  {
   "cell_type": "markdown",
   "metadata": {},
   "source": [
    "#### Data Visualization"
   ]
  },
  {
   "cell_type": "code",
   "execution_count": 12,
   "metadata": {},
   "outputs": [
    {
     "data": {
      "text/plain": [
       "Text(0.5, 1.0, 'Distribution of Standard Deviation of our Training Features')"
      ]
     },
     "execution_count": 12,
     "metadata": {},
     "output_type": "execute_result"
    },
    {
     "data": {
      "image/png": "[encoded data removed]",
      "text/plain": [
       "<Figure size 432x288 with 1 Axes>"
      ]
     },
     "metadata": {
      "needs_background": "light"
     },
     "output_type": "display_data"
    }
   ],
   "source": [
    "train_Df[train_Df.columns[2:]].std().plot('hist');\n",
    "plt.title(\"Distribution of Standard Deviation of our Training Features\")"
   ]
  },
  {
   "cell_type": "code",
   "execution_count": 13,
   "metadata": {
    "scrolled": true
   },
   "outputs": [
    {
     "data": {
      "text/plain": [
       "Text(0.5, 1.0, 'Distribution of Mean of our Training Features')"
      ]
     },
     "execution_count": 13,
     "metadata": {},
     "output_type": "execute_result"
    },
    {
     "data": {
      "image/png": "[encoded data removed]",
      "text/plain": [
       "<Figure size 432x288 with 1 Axes>"
      ]
     },
     "metadata": {
      "needs_background": "light"
     },
     "output_type": "display_data"
    }
   ],
   "source": [
    "train_Df[train_Df.columns[2:]].mean().plot('hist');\n",
    "plt.title(\"Distribution of Mean of our Training Features\")"
   ]
  },
  {
   "cell_type": "code",
   "execution_count": 14,
   "metadata": {},
   "outputs": [
    {
     "data": {
      "text/plain": [
       "((19750, 300), (250, 301))"
      ]
     },
     "execution_count": 14,
     "metadata": {},
     "output_type": "execute_result"
    }
   ],
   "source": [
    "# Lets drop 'id'\n",
    "def drop_id(df):\n",
    "    df.drop(columns = 'id', inplace=True)\n",
    "    return df.shape\n",
    "    \n",
    "drop_id(test_Df), drop_id(train_Df)"
   ]
  },
  {
   "cell_type": "markdown",
   "metadata": {},
   "source": [
    "### Feature Selection"
   ]
  },
  {
   "cell_type": "code",
   "execution_count": 15,
   "metadata": {},
   "outputs": [],
   "source": [
    "# Features\n",
    "X = train_Df.drop(columns = 'target')"
   ]
  },
  {
   "cell_type": "code",
   "execution_count": 69,
   "metadata": {},
   "outputs": [],
   "source": [
    "y = train_Df['target']"
   ]
  },
  {
   "cell_type": "code",
   "execution_count": 17,
   "metadata": {},
   "outputs": [
    {
     "data": {
      "image/png": "[encoded data removed]",
      "text/plain": [
       "<Figure size 3600x720 with 1 Axes>"
      ]
     },
     "metadata": {
      "needs_background": "light"
     },
     "output_type": "display_data"
    }
   ],
   "source": [
    "# Visualizing our features' Correlation\n",
    "X.corrwith(train_Df.target).plot.bar(figsize = (50, 10),\n",
    "                                      title = \"Correlation with Churn\",\n",
    "                                      fontsize = 20, rot = 20, grid = True)\n",
    "plt.show()"
   ]
  },
  {
   "cell_type": "markdown",
   "metadata": {},
   "source": [
    "##### Cross Correlations within our Features"
   ]
  },
  {
   "cell_type": "code",
   "execution_count": 18,
   "metadata": {
    "scrolled": true
   },
   "outputs": [
    {
     "data": {
      "text/html": [
       "<div>\n",
       "<style scoped>\n",
       "    .dataframe tbody tr th:only-of-type {\n",
       "        vertical-align: middle;\n",
       "    }\n",
       "\n",
       "    .dataframe tbody tr th {\n",
       "        vertical-align: top;\n",
       "    }\n",
       "\n",
       "    .dataframe thead th {\n",
       "        text-align: right;\n",
       "    }\n",
       "</style>\n",
       "<table border=\"1\" class=\"dataframe\">\n",
       "  <thead>\n",
       "    <tr style=\"text-align: right;\">\n",
       "      <th></th>\n",
       "      <th>90280</th>\n",
       "      <th>90282</th>\n",
       "      <th>90284</th>\n",
       "      <th>90286</th>\n",
       "      <th>90288</th>\n",
       "      <th>90290</th>\n",
       "      <th>90292</th>\n",
       "      <th>90294</th>\n",
       "      <th>90296</th>\n",
       "      <th>90298</th>\n",
       "    </tr>\n",
       "  </thead>\n",
       "  <tbody>\n",
       "    <tr>\n",
       "      <th>Feature_1</th>\n",
       "      <td>109</td>\n",
       "      <td>83</td>\n",
       "      <td>176</td>\n",
       "      <td>125</td>\n",
       "      <td>295</td>\n",
       "      <td>279</td>\n",
       "      <td>23</td>\n",
       "      <td>146</td>\n",
       "      <td>39</td>\n",
       "      <td>127</td>\n",
       "    </tr>\n",
       "    <tr>\n",
       "      <th>Feature_2</th>\n",
       "      <td>124</td>\n",
       "      <td>43</td>\n",
       "      <td>128</td>\n",
       "      <td>11</td>\n",
       "      <td>64</td>\n",
       "      <td>219</td>\n",
       "      <td>20</td>\n",
       "      <td>228</td>\n",
       "      <td>6</td>\n",
       "      <td>target</td>\n",
       "    </tr>\n",
       "    <tr>\n",
       "      <th>Correlation Coef</th>\n",
       "      <td>0.226356</td>\n",
       "      <td>0.227012</td>\n",
       "      <td>0.229053</td>\n",
       "      <td>0.229146</td>\n",
       "      <td>0.231097</td>\n",
       "      <td>0.238512</td>\n",
       "      <td>0.246984</td>\n",
       "      <td>0.258447</td>\n",
       "      <td>0.267727</td>\n",
       "      <td>0.33754</td>\n",
       "    </tr>\n",
       "  </tbody>\n",
       "</table>\n",
       "</div>"
      ],
      "text/plain": [
       "                     90280     90282     90284     90286     90288     90290  \\\n",
       "Feature_1              109        83       176       125       295       279   \n",
       "Feature_2              124        43       128        11        64       219   \n",
       "Correlation Coef  0.226356  0.227012  0.229053  0.229146  0.231097  0.238512   \n",
       "\n",
       "                     90292     90294     90296    90298  \n",
       "Feature_1               23       146        39      127  \n",
       "Feature_2               20       228         6   target  \n",
       "Correlation Coef  0.246984  0.258447  0.267727  0.33754  "
      ]
     },
     "execution_count": 18,
     "metadata": {},
     "output_type": "execute_result"
    }
   ],
   "source": [
    "corrs = train_Df.corr().abs().unstack().sort_values(kind=\"quicksort\").reset_index()\n",
    "corrs = corrs[corrs['level_0'] != corrs['level_1']][::2]\n",
    "corrs.rename(columns =\n",
    "             {'level_0':'Feature_1', 'level_1':'Feature_2',\n",
    "              0:'Correlation Coef'}, inplace = True)\n",
    "# Highest Correlation Coefficients\n",
    "corrs.tail(10).T"
   ]
  },
  {
   "cell_type": "markdown",
   "metadata": {},
   "source": [
    "##### Correlations between our Target variable"
   ]
  },
  {
   "cell_type": "code",
   "execution_count": 19,
   "metadata": {
    "scrolled": false
   },
   "outputs": [
    {
     "name": "stdout",
     "output_type": "stream",
     "text": [
      "127    0.337540\n",
      "176    0.217100\n",
      "18     0.206452\n",
      "59     0.203166\n",
      "135    0.179960\n",
      "16     0.179796\n",
      "241    0.173879\n",
      "126    0.167064\n",
      "69     0.164571\n",
      "74     0.157756\n",
      "dtype: float64 \n",
      "\n"
     ]
    },
    {
     "data": {
      "text/plain": [
       "290    0.003138\n",
       "142    0.003135\n",
       "224    0.002300\n",
       "36     0.002200\n",
       "277    0.001633\n",
       "108    0.001018\n",
       "111    0.000971\n",
       "246    0.000778\n",
       "263    0.000624\n",
       "269    0.000211\n",
       "dtype: float64"
      ]
     },
     "execution_count": 19,
     "metadata": {},
     "output_type": "execute_result"
    }
   ],
   "source": [
    "# Ten Highest Correlations \n",
    "highest_ten = X.corrwith(train_Df.target).abs().sort_values(ascending = False)[:10]\n",
    "print(highest_ten, '\\n')\n",
    "# Ten Lowest Correlations\n",
    "lowest_ten  = X.corrwith(train_Df.target).abs().sort_values(ascending = False)[-10:]\n",
    "lowest_ten"
   ]
  },
  {
   "cell_type": "markdown",
   "metadata": {},
   "source": [
    "### Applying Base Model: Logistic Regression\n",
    "\n",
    "After Scaling our Features.\n",
    "\n",
    "- Use the GridSearchCV module to find the best parameters\n",
    "- Enter the Best Parameters\n",
    "- Cross Validate"
   ]
  },
  {
   "cell_type": "markdown",
   "metadata": {},
   "source": [
    "#### Feature Scaling"
   ]
  },
  {
   "cell_type": "code",
   "execution_count": 20,
   "metadata": {},
   "outputs": [],
   "source": [
    "from sklearn.preprocessing import StandardScaler\n",
    "sc_X = StandardScaler()\n",
    "\n",
    "X_s_train = pd.DataFrame(sc_X.fit_transform(X))\n",
    "X_s_validation = pd.DataFrame(sc_X.fit_transform(test_Df))\n",
    "\n",
    "n_fold = 20\n",
    "folds = StratifiedKFold(n_splits=n_fold, shuffle=True, random_state=42)\n",
    "kfold = KFold(n_splits = 10, shuffle = True, random_state = 7)"
   ]
  },
  {
   "cell_type": "markdown",
   "metadata": {},
   "source": [
    "#### Logistic Regression: GridSearch For the best Parameters"
   ]
  },
  {
   "cell_type": "code",
   "execution_count": 21,
   "metadata": {
    "scrolled": false
   },
   "outputs": [
    {
     "name": "stdout",
     "output_type": "stream",
     "text": [
      "Best score: 0.7006444444444444\n",
      "Best parameters: {'C': 0.08, 'class_weight': 'balanced', 'penalty': 'l2', 'solver': 'newton-cg'}\n",
      "#-----------------\n",
      "\n",
      "Best score: 0.785088888888889\n",
      "Best parameters: {'C': 0.1, 'class_weight': 'balanced', 'penalty': 'l1', 'solver': 'saga'}\n"
     ]
    }
   ],
   "source": [
    "lr = LogisticRegression(solver='liblinear', max_iter=1000)\n",
    "\n",
    "parameter_grid = {'class_weight' : ['balanced', None],\n",
    "                  'penalty' : ['l2'],\n",
    "                  'C' : [0.001, 0.01, 0.08, 0.1, 0.15, 1.0, 10.0, 100.0],\n",
    "                  'solver': ['newton-cg','sag','lbfgs']\n",
    "                 }\n",
    "\n",
    "grid_search = GridSearchCV(lr, \n",
    "                           param_grid=parameter_grid, \n",
    "                           cv=folds, scoring='roc_auc')\n",
    "grid_search.fit(X_s_train, y)\n",
    "print('Best score: {}'.format(grid_search.best_score_))\n",
    "print('Best parameters: {}'.format(grid_search.best_params_))\n",
    "\n",
    "print('\\n#-----------------\\n')\n",
    "parameter_grid = {'class_weight' : ['balanced', None],\n",
    "                  'penalty' : ['l2', 'l1'],\n",
    "                  'C' : [0.001, 0.01, 0.08, 0.1, 0.15, 1.0, 10.0, 100.0],\n",
    "                  'solver': ['liblinear', 'saga']\n",
    "                 }\n",
    "\n",
    "grid_search = GridSearchCV(lr, \n",
    "                           param_grid=parameter_grid, \n",
    "                           cv=folds, scoring='roc_auc')\n",
    "grid_search.fit(X_s_train, y)\n",
    "print('Best score: {}'.format(grid_search.best_score_))\n",
    "print('Best parameters: {}'.format(grid_search.best_params_))"
   ]
  },
  {
   "cell_type": "markdown",
   "metadata": {},
   "source": [
    "##### Logistic Regression: Applying our Parameters"
   ]
  },
  {
   "cell_type": "code",
   "execution_count": 23,
   "metadata": {},
   "outputs": [
    {
     "name": "stdout",
     "output_type": "stream",
     "text": [
      "LogReg: [mean]0.720000 [std](0.050596)\n"
     ]
    }
   ],
   "source": [
    "logi = LogisticRegression(random_state = 0, class_weight='balanced',\n",
    "                          C = 0.1, penalty = 'l1', solver='saga')\n",
    "logi.fit(X_s_train, y)"
   ]
  },
  {
   "cell_type": "code",
   "execution_count": 44,
   "metadata": {},
   "outputs": [
    {
     "data": {
      "text/plain": [
       "LogisticRegression(C=0.1, class_weight='balanced', dual=False,\n",
       "          fit_intercept=True, intercept_scaling=1, max_iter=100,\n",
       "          multi_class='warn', n_jobs=None, penalty='l1', random_state=0,\n",
       "          solver='saga', tol=0.0001, verbose=0, warm_start=False)"
      ]
     },
     "execution_count": 44,
     "metadata": {},
     "output_type": "execute_result"
    }
   ],
   "source": [
    "logi"
   ]
  },
  {
   "cell_type": "markdown",
   "metadata": {},
   "source": [
    "#### Cross Validation"
   ]
  },
  {
   "cell_type": "code",
   "execution_count": 24,
   "metadata": {},
   "outputs": [
    {
     "data": {
      "text/plain": [
       "(0.708, 0.06462197768561405)"
      ]
     },
     "execution_count": 24,
     "metadata": {},
     "output_type": "execute_result"
    }
   ],
   "source": [
    "logi_accuracy = cross_val_score(estimator = logi, X = X_s_train,\n",
    "                                y = y, cv = kfold, scoring = 'accuracy')\n",
    "print('%s: [mean]%f [std](%f)' % ('LogReg', logi_accuracy.mean(), \n",
    "                                  logi_accuracy.std()))"
   ]
  },
  {
   "cell_type": "markdown",
   "metadata": {},
   "source": [
    "### RandomForestClassifier\n",
    "\n",
    "- First, lets use the GridSearchCV module to find the best parameters\n",
    "- Enter the Best Parameters\n",
    "- Cross Validate"
   ]
  },
  {
   "cell_type": "code",
   "execution_count": 26,
   "metadata": {},
   "outputs": [
    {
     "name": "stdout",
     "output_type": "stream",
     "text": [
      "Best score: 0.7061111111111112\n",
      "Best parameters: {'max_depth': None, 'n_estimators': 1000}\n"
     ]
    }
   ],
   "source": [
    "from sklearn.ensemble import RandomForestClassifier\n",
    "rfc = RandomForestClassifier()\n",
    "n_fold = 20\n",
    "folds = StratifiedKFold(n_splits=n_fold, shuffle=True, random_state=42)\n",
    "\n",
    "\n",
    "parameter_grid = {'n_estimators': [10, 50, 100, 1000],  # The number of trees in the forest.\n",
    "                  'max_depth': [None, 3, 5, 15, 50]        # The maximum depth of the tree.\n",
    "                 }\n",
    "\n",
    "grid_search = GridSearchCV(rfc, param_grid=parameter_grid, cv=folds, scoring='roc_auc', n_jobs=-1)\n",
    "grid_search.fit(X, y)\n",
    "print('Best score: {}'.format(grid_search.best_score_))\n",
    "print('Best parameters: {}'.format(grid_search.best_params_))\n",
    "rfc = RandomForestClassifier(**grid_search.best_params_)"
   ]
  },
  {
   "cell_type": "code",
   "execution_count": 27,
   "metadata": {
    "scrolled": true
   },
   "outputs": [
    {
     "data": {
      "text/plain": [
       "RandomForestClassifier(bootstrap=True, class_weight=None, criterion='gini',\n",
       "            max_depth=5, max_features='auto', max_leaf_nodes=None,\n",
       "            min_impurity_decrease=0.0, min_impurity_split=None,\n",
       "            min_samples_leaf=1, min_samples_split=2,\n",
       "            min_weight_fraction_leaf=0.0, n_estimators=1000, n_jobs=None,\n",
       "            oob_score=False, random_state=50, verbose=0, warm_start=False)"
      ]
     },
     "execution_count": 27,
     "metadata": {},
     "output_type": "execute_result"
    }
   ],
   "source": [
    "random_forest_e = RandomForestClassifier(n_estimators = 1000, criterion = 'gini', \n",
    "                                         random_state = 50, max_depth = 'None')\n",
    "random_forest_e.fit(X, y)"
   ]
  },
  {
   "cell_type": "markdown",
   "metadata": {},
   "source": [
    "#### Cross Validation"
   ]
  },
  {
   "cell_type": "raw",
   "metadata": {},
   "source": [
    "From above the Best Score flunctuates, although the best n_estimator prints 1000 constantly."
   ]
  },
  {
   "cell_type": "code",
   "execution_count": 28,
   "metadata": {},
   "outputs": [
    {
     "data": {
      "text/plain": [
       "(0.732, 0.031240998703626625)"
      ]
     },
     "execution_count": 28,
     "metadata": {},
     "output_type": "execute_result"
    }
   ],
   "source": [
    "rf_accuracy = cross_val_score(estimator = random_forest_e, \n",
    "                              X= X_s_train, y= y, cv=kfold, \n",
    "                              scoring = 'accuracy')\n",
    "\n",
    "print('%s: [mean]%f [std](%f)' % ('RFC', \n",
    "                                  rf_accuracy.mean(), rf_accuracy.std()))"
   ]
  },
  {
   "cell_type": "raw",
   "metadata": {},
   "source": [
    "However in RandomForestClassifier, the accuracy doe not change at all."
   ]
  },
  {
   "cell_type": "markdown",
   "metadata": {},
   "source": [
    "### Other Models"
   ]
  },
  {
   "cell_type": "code",
   "execution_count": 30,
   "metadata": {},
   "outputs": [
    {
     "name": "stdout",
     "output_type": "stream",
     "text": [
      "LR: [mean]0.667077 [std](0.069843)\n",
      "LDA: [mean]0.615282 [std](0.124142)\n",
      "KNN: [mean]0.696513 [std](0.044089)\n",
      "CART: [mean]0.588090 [std](0.088482)\n",
      "NB: [mean]0.715590 [std](0.066635)\n",
      "SVM: [mean]0.732231 [std](0.012458)\n"
     ]
    }
   ],
   "source": [
    "# Spot Check Algorithms\n",
    "models = []\n",
    "models.append(('LDA', LinearDiscriminantAnalysis()))\n",
    "models.append(('KNN', KNeighborsClassifier()))\n",
    "models.append(('CART', DecisionTreeClassifier()))\n",
    "models.append(('NB', GaussianNB()))\n",
    "models.append(('SVM', SVC(gamma='auto')))\n",
    "\n",
    "# Evaluate each model in Turn\n",
    "results = []\n",
    "names = []\n",
    "for name, model in models:\n",
    "    kfold = StratifiedKFold(n_splits = 10, random_state = 1, shuffle = True)\n",
    "    cv_results = cross_val_score(model, X_s_train, y, cv=kfold, scoring = 'accuracy')\n",
    "    results.append(cv_results)\n",
    "    names.append(name)\n",
    "    print('%s: [mean]%f [std](%f)' % (name, cv_results.mean(), cv_results.std()))"
   ]
  },
  {
   "cell_type": "markdown",
   "metadata": {},
   "source": [
    "?That's weird SVC and RandomForestClassifier have the same results..."
   ]
  },
  {
   "cell_type": "markdown",
   "metadata": {},
   "source": [
    "RFC and SVC have the highest accuracy mean as well as the lowest standard deviation"
   ]
  },
  {
   "cell_type": "code",
   "execution_count": 65,
   "metadata": {},
   "outputs": [
    {
     "data": {
      "text/plain": [
       "((19750, 1), 250)"
      ]
     },
     "execution_count": 65,
     "metadata": {},
     "output_type": "execute_result"
    }
   ],
   "source": [
    "# Lets import a submission sample, use it for validation\n",
    "y_validation = pd.read_csv(\"C:/Users/HP/Documents/ML/Py_Dataset/dont-overfit-ii/sample_submission.csv\")\n",
    "y_validation = y.drop(columns = 'id')\n",
    "y_validation.shape, len(X_s_train)"
   ]
  },
  {
   "cell_type": "code",
   "execution_count": 38,
   "metadata": {},
   "outputs": [
    {
     "data": {
      "text/html": [
       "<div>\n",
       "<style scoped>\n",
       "    .dataframe tbody tr th:only-of-type {\n",
       "        vertical-align: middle;\n",
       "    }\n",
       "\n",
       "    .dataframe tbody tr th {\n",
       "        vertical-align: top;\n",
       "    }\n",
       "\n",
       "    .dataframe thead th {\n",
       "        text-align: right;\n",
       "    }\n",
       "</style>\n",
       "<table border=\"1\" class=\"dataframe\">\n",
       "  <thead>\n",
       "    <tr style=\"text-align: right;\">\n",
       "      <th></th>\n",
       "      <th>Model</th>\n",
       "      <th>Accuracy</th>\n",
       "      <th>Cross Val Accuracy</th>\n",
       "      <th>Precision</th>\n",
       "      <th>Recall</th>\n",
       "      <th>F1 Score</th>\n",
       "    </tr>\n",
       "  </thead>\n",
       "  <tbody>\n",
       "    <tr>\n",
       "      <th>0</th>\n",
       "      <td>Random Forest</td>\n",
       "      <td>1.0</td>\n",
       "      <td>0.732</td>\n",
       "      <td>0.0</td>\n",
       "      <td>0.0</td>\n",
       "      <td>0.0</td>\n",
       "    </tr>\n",
       "  </tbody>\n",
       "</table>\n",
       "</div>"
      ],
      "text/plain": [
       "           Model  Accuracy  Cross Val Accuracy  Precision  Recall  F1 Score\n",
       "0  Random Forest       1.0               0.732        0.0     0.0       0.0"
      ]
     },
     "execution_count": 38,
     "metadata": {},
     "output_type": "execute_result"
    }
   ],
   "source": [
    "predictions = random_forest_e.predict(X_s_validation)\n",
    "acc = accuracy_score(y_validation, predictions)\n",
    "try:\n",
    "    roc = roc_auc_score(y_validation, predictions)\n",
    "except ValueError:\n",
    "    pass\n",
    "prec = precision_score(y_validation, predictions)\n",
    "rec = recall_score(y_validation, predictions)\n",
    "f1 = f1_score(y_validation, predictions)\n",
    "\n",
    "rf_model_results = pd.DataFrame([['Random Forest', acc, rf_accuracy.mean(), \n",
    "                               prec, rec, f1]],\n",
    "                            columns = ['Model', 'Accuracy', \n",
    "                                       'Cross Val Accuracy', 'Precision',\n",
    "                                       'Recall', 'F1 Score'])\n",
    "rf_model_results"
   ]
  },
  {
   "cell_type": "code",
   "execution_count": 34,
   "metadata": {
    "scrolled": true
   },
   "outputs": [
    {
     "data": {
      "text/plain": [
       "(19750, 19750)"
      ]
     },
     "execution_count": 34,
     "metadata": {},
     "output_type": "execute_result"
    }
   ],
   "source": [
    "len(y_validation), len(predictions)"
   ]
  },
  {
   "cell_type": "code",
   "execution_count": 39,
   "metadata": {},
   "outputs": [
    {
     "data": {
      "text/html": [
       "<div>\n",
       "<style scoped>\n",
       "    .dataframe tbody tr th:only-of-type {\n",
       "        vertical-align: middle;\n",
       "    }\n",
       "\n",
       "    .dataframe tbody tr th {\n",
       "        vertical-align: top;\n",
       "    }\n",
       "\n",
       "    .dataframe thead th {\n",
       "        text-align: right;\n",
       "    }\n",
       "</style>\n",
       "<table border=\"1\" class=\"dataframe\">\n",
       "  <thead>\n",
       "    <tr style=\"text-align: right;\">\n",
       "      <th></th>\n",
       "      <th>Model</th>\n",
       "      <th>Accuracy</th>\n",
       "      <th>Cross Val Accuracy</th>\n",
       "      <th>Precision</th>\n",
       "      <th>Recall</th>\n",
       "      <th>F1 Score</th>\n",
       "    </tr>\n",
       "  </thead>\n",
       "  <tbody>\n",
       "    <tr>\n",
       "      <th>0</th>\n",
       "      <td>LogisticRegression</td>\n",
       "      <td>0.668354</td>\n",
       "      <td>0.708</td>\n",
       "      <td>0.0</td>\n",
       "      <td>0.0</td>\n",
       "      <td>0.0</td>\n",
       "    </tr>\n",
       "    <tr>\n",
       "      <th>1</th>\n",
       "      <td>Random Forest</td>\n",
       "      <td>1.000000</td>\n",
       "      <td>0.732</td>\n",
       "      <td>0.0</td>\n",
       "      <td>0.0</td>\n",
       "      <td>0.0</td>\n",
       "    </tr>\n",
       "  </tbody>\n",
       "</table>\n",
       "</div>"
      ],
      "text/plain": [
       "                Model  Accuracy  Cross Val Accuracy  Precision  Recall  \\\n",
       "0  LogisticRegression  0.668354               0.708        0.0     0.0   \n",
       "1       Random Forest  1.000000               0.732        0.0     0.0   \n",
       "\n",
       "   F1 Score  \n",
       "0       0.0  \n",
       "1       0.0  "
      ]
     },
     "execution_count": 39,
     "metadata": {},
     "output_type": "execute_result"
    }
   ],
   "source": [
    "# Let's have a more descriptive table of our model\n",
    "y_predict_r = logi.predict(X_s_validation) \n",
    "try:\n",
    "    roc = roc_auc_score(y_validation, y_predict_r)\n",
    "except ValueError:\n",
    "    pass\n",
    "acc = accuracy_score(y_validation, y_predict_r)\n",
    "prec = precision_score(y_validation, y_predict_r)\n",
    "rec = recall_score(y_validation, y_predict_r)\n",
    "f1 = f1_score(y_validation, y_predict_r)\n",
    "\n",
    "lr_model_results = pd.DataFrame([['LogisticRegression', acc, logi_accuracy.mean(), \n",
    "                               prec, rec, f1]],\n",
    "                            columns = ['Model', 'Accuracy', \n",
    "                                       'Cross Val Accuracy', 'Precision',\n",
    "                                       'Recall', 'F1 Score'])\n",
    "lr_model_results.append(rf_model_results, ignore_index = True)"
   ]
  },
  {
   "cell_type": "markdown",
   "metadata": {},
   "source": [
    "#### Confusion Matrix"
   ]
  },
  {
   "cell_type": "code",
   "execution_count": 40,
   "metadata": {
    "scrolled": true
   },
   "outputs": [
    {
     "data": {
      "image/png": "[encoded data removed]",
      "text/plain": [
       "<Figure size 432x288 with 2 Axes>"
      ]
     },
     "metadata": {
      "needs_background": "light"
     },
     "output_type": "display_data"
    }
   ],
   "source": [
    "cm_rfc = confusion_matrix(y_validation, y_predict_r)\n",
    "plt.title('Confusion matrix of the Logistic Regression')\n",
    "sns.heatmap(cm_rfc, annot = True, fmt='d')\n",
    "plt.show()\n",
    "\n",
    "#Overfitting!!?"
   ]
  },
  {
   "cell_type": "code",
   "execution_count": 41,
   "metadata": {
    "scrolled": true
   },
   "outputs": [
    {
     "data": {
      "image/png": "[encoded data removed]",
      "text/plain": [
       "<Figure size 432x288 with 2 Axes>"
      ]
     },
     "metadata": {
      "needs_background": "light"
     },
     "output_type": "display_data"
    }
   ],
   "source": [
    "cm_rfc = confusion_matrix(y_validation, predictions)\n",
    "plt.title('Confusion matrix of the RandomForestClassifier')\n",
    "sns.heatmap(cm_rfc, annot = True, fmt='d')\n",
    "plt.show()"
   ]
  },
  {
   "cell_type": "markdown",
   "metadata": {},
   "source": [
    "Funny thing is going by the choosen validation data, taken from a submission file, the RandomForestClassifier is perfect, does predict all our values correctlr, however the default to an overfitting. Otherwise the Logistic Regression gives us some room for error or relevant bias and distributes closely to the train data, and the guess is the algorithm is made for such Binary Classiifcation problems like this."
   ]
  },
  {
   "cell_type": "code",
   "execution_count": 66,
   "metadata": {},
   "outputs": [
    {
     "data": {
      "text/plain": [
       "0.0    13200\n",
       "1.0     6550\n",
       "Name: 0, dtype: int64"
      ]
     },
     "execution_count": 66,
     "metadata": {},
     "output_type": "execute_result"
    }
   ],
   "source": [
    "a = pd.DataFrame(y_predict_r)\n",
    "a[0].value_counts() \n",
    "\n",
    "#Here is the porblem our output is greatly biased"
   ]
  },
  {
   "cell_type": "code",
   "execution_count": 68,
   "metadata": {},
   "outputs": [
    {
     "data": {
      "text/plain": [
       "0    19750\n",
       "Name: target, dtype: int64"
      ]
     },
     "execution_count": 68,
     "metadata": {},
     "output_type": "execute_result"
    }
   ],
   "source": [
    "y_validation['target'].value_counts()\n",
    "# However our validation values are entirely 0's."
   ]
  },
  {
   "cell_type": "markdown",
   "metadata": {},
   "source": [
    "### ROC Curve"
   ]
  },
  {
   "cell_type": "code",
   "execution_count": 47,
   "metadata": {},
   "outputs": [
    {
     "data": {
      "image/png": "[encoded data removed]",
      "text/plain": [
       "<Figure size 432x288 with 1 Axes>"
      ]
     },
     "metadata": {
      "needs_background": "light"
     },
     "output_type": "display_data"
    }
   ],
   "source": [
    "from sklearn import metrics\n",
    "import matplotlib.pyplot as plt\n",
    "\n",
    "plt.figure()\n",
    "\n",
    "m = {'label': 'Random Forest Entropy',\n",
    " 'model': RandomForestClassifier(bootstrap=True, class_weight=None, \n",
    "                                 criterion='entropy',\n",
    "             max_depth=None, max_features='auto', max_leaf_nodes=None,\n",
    "             min_impurity_decrease=0.0, min_impurity_split=None,\n",
    "             min_samples_leaf=1, min_samples_split=2,\n",
    "             min_weight_fraction_leaf=0.0, n_estimators=100, n_jobs=None,\n",
    "             oob_score=False, random_state=47, verbose=0, warm_start=False)}\n",
    "predictions # predict the test data\n",
    "# Compute False postive rate, True positive rate\n",
    "fpr, tpr, thresholds = metrics.roc_curve(y_validation, \n",
    "                                         random_forest_e.predict_proba(X_s_validation)[:,1])\n",
    "# Now, plot the computed values\n",
    "plt.plot(fpr, tpr, label='%s ROC (area = %0.2f)' % (m['label'], 0.0))\n",
    "# Custom settings for the plot \n",
    "plt.plot([0, 1], [0, 1],'r--')\n",
    "plt.xlim([0.0, 1.0])\n",
    "plt.ylim([0.0, 1.05])\n",
    "plt.xlabel('1-Specificity(False Positive Rate)')\n",
    "plt.ylabel('Sensitivity(True Positive Rate)')\n",
    "plt.title('LR: Receiver Operating Characteristic')\n",
    "plt.legend(loc=\"lower right\")\n",
    "plt.show()"
   ]
  },
  {
   "cell_type": "code",
   "execution_count": 49,
   "metadata": {},
   "outputs": [
    {
     "data": {
      "image/png": "[encoded data removed]",
      "text/plain": [
       "<Figure size 432x288 with 1 Axes>"
      ]
     },
     "metadata": {
      "needs_background": "light"
     },
     "output_type": "display_data"
    }
   ],
   "source": [
    "from sklearn import metrics\n",
    "import matplotlib.pyplot as plt\n",
    "\n",
    "plt.figure()\n",
    "\n",
    "m = {'label': 'Logistic Regression Entropy',\n",
    " 'model': LogisticRegression(C=0.1, class_weight='balanced', dual=False,\n",
    "          fit_intercept=True, intercept_scaling=1, max_iter=100,\n",
    "          multi_class='warn', n_jobs=None, penalty='l1', random_state=0,\n",
    "          solver='saga', tol=0.0001, verbose=0, warm_start=False)}\n",
    "y_predict_r # predict the test data\n",
    "# Compute False postive rate, and True positive rate\n",
    "fpr, tpr, thresholds = metrics.roc_curve(y_validation, \n",
    "                                         logi.predict_proba(X_s_validation)[:,1])\n",
    "# Now, plot the computed values\n",
    "plt.plot(fpr, tpr, label='%s ROC (area = %0.2f)' % (m['label'], 0.0))\n",
    "# Custom settings for the plot \n",
    "plt.plot([0, 1], [0, 1],'r--')\n",
    "plt.xlim([0.0, 1.0])\n",
    "plt.ylim([0.0, 1.05])\n",
    "plt.xlabel('1-Specificity(False Positive Rate)')\n",
    "plt.ylabel('Sensitivity(True Positive Rate)')\n",
    "plt.title('RFC: Receiver Operating Characteristic')\n",
    "plt.legend(loc=\"lower right\")\n",
    "plt.show()"
   ]
  },
  {
   "cell_type": "markdown",
   "metadata": {},
   "source": [
    "### Features Importance Plot"
   ]
  },
  {
   "cell_type": "code",
   "execution_count": 50,
   "metadata": {
    "scrolled": true
   },
   "outputs": [
    {
     "data": {
      "image/png": "[encoded data removed]",
      "text/plain": [
       "<Figure size 432x288 with 1 Axes>"
      ]
     },
     "metadata": {
      "needs_background": "light"
     },
     "output_type": "display_data"
    }
   ],
   "source": [
    "importances = random_forest_e.feature_importances_\n",
    "indices = np.argsort(importances)[::-1][:10]\n",
    "\n",
    "names = [X.columns[i] for i in indices]\n",
    "\n",
    "plt.figure()\n",
    "\n",
    "plt.title('Top 10 Feature Importance')\n",
    "\n",
    "plt.bar(range(10), importances[indices])\n",
    "\n",
    "plt.xticks(range(10), names, rotation=45)\n",
    "plt.show()"
   ]
  },
  {
   "cell_type": "code",
   "execution_count": 51,
   "metadata": {},
   "outputs": [
    {
     "name": "stdout",
     "output_type": "stream",
     "text": [
      "127    0.337540\n",
      "176    0.217100\n",
      "18     0.206452\n",
      "59     0.203166\n",
      "135    0.179960\n",
      "16     0.179796\n",
      "241    0.173879\n",
      "126    0.167064\n",
      "69     0.164571\n",
      "74     0.157756\n",
      "dtype: float64 \n",
      "\n"
     ]
    }
   ],
   "source": [
    "highest_ten = X.corrwith(train_Df.target).abs().sort_values(ascending = False)[:10]\n",
    "print(highest_ten, '\\n')"
   ]
  },
  {
   "cell_type": "code",
   "execution_count": 55,
   "metadata": {},
   "outputs": [],
   "source": [
    "pred = pd.DataFrame(y_predict_r) #Logistic Regression\n",
    "pred2 = pd.DataFrame(predictions) #RFClassifier"
   ]
  },
  {
   "cell_type": "code",
   "execution_count": 73,
   "metadata": {},
   "outputs": [
    {
     "data": {
      "text/plain": [
       "(0.0    0.668354\n",
       " 1.0    0.331646\n",
       " Name: 0, dtype: float64, 0.0    19750\n",
       " Name: 0, dtype: int64)"
      ]
     },
     "execution_count": 73,
     "metadata": {},
     "output_type": "execute_result"
    }
   ],
   "source": [
    "pred[0].value_counts(normalize = True), pred2[0].value_counts()"
   ]
  },
  {
   "cell_type": "code",
   "execution_count": 61,
   "metadata": {
    "scrolled": true
   },
   "outputs": [
    {
     "data": {
      "text/plain": [
       "0    19750\n",
       "Name: target, dtype: int64"
      ]
     },
     "execution_count": 61,
     "metadata": {},
     "output_type": "execute_result"
    }
   ],
   "source": [
    "y_validation['target'].value_counts()"
   ]
  },
  {
   "cell_type": "code",
   "execution_count": 71,
   "metadata": {},
   "outputs": [
    {
     "data": {
      "text/plain": [
       "0.0    183\n",
       "1.0     67\n",
       "Name: target, dtype: int64"
      ]
     },
     "execution_count": 71,
     "metadata": {},
     "output_type": "execute_result"
    }
   ],
   "source": [
    "y.value_counts()"
   ]
  },
  {
   "cell_type": "code",
   "execution_count": 72,
   "metadata": {},
   "outputs": [
    {
     "data": {
      "text/plain": [
       "0.0    0.732\n",
       "1.0    0.268\n",
       "Name: target, dtype: float64"
      ]
     },
     "execution_count": 72,
     "metadata": {},
     "output_type": "execute_result"
    }
   ],
   "source": [
    "train_Df['target'].value_counts(normalize = True)"
   ]
  },
  {
   "cell_type": "code",
   "execution_count": 74,
   "metadata": {},
   "outputs": [
    {
     "data": {
      "text/html": [
       "<div>\n",
       "<style scoped>\n",
       "    .dataframe tbody tr th:only-of-type {\n",
       "        vertical-align: middle;\n",
       "    }\n",
       "\n",
       "    .dataframe tbody tr th {\n",
       "        vertical-align: top;\n",
       "    }\n",
       "\n",
       "    .dataframe thead th {\n",
       "        text-align: right;\n",
       "    }\n",
       "</style>\n",
       "<table border=\"1\" class=\"dataframe\">\n",
       "  <thead>\n",
       "    <tr style=\"text-align: right;\">\n",
       "      <th></th>\n",
       "      <th>id</th>\n",
       "      <th>target</th>\n",
       "    </tr>\n",
       "  </thead>\n",
       "  <tbody>\n",
       "    <tr>\n",
       "      <th>0</th>\n",
       "      <td>250</td>\n",
       "      <td>1.0</td>\n",
       "    </tr>\n",
       "    <tr>\n",
       "      <th>1</th>\n",
       "      <td>251</td>\n",
       "      <td>0.0</td>\n",
       "    </tr>\n",
       "    <tr>\n",
       "      <th>2</th>\n",
       "      <td>252</td>\n",
       "      <td>0.0</td>\n",
       "    </tr>\n",
       "    <tr>\n",
       "      <th>3</th>\n",
       "      <td>253</td>\n",
       "      <td>1.0</td>\n",
       "    </tr>\n",
       "    <tr>\n",
       "      <th>4</th>\n",
       "      <td>254</td>\n",
       "      <td>1.0</td>\n",
       "    </tr>\n",
       "  </tbody>\n",
       "</table>\n",
       "</div>"
      ],
      "text/plain": [
       "    id  target\n",
       "0  250     1.0\n",
       "1  251     0.0\n",
       "2  252     0.0\n",
       "3  253     1.0\n",
       "4  254     1.0"
      ]
     },
     "execution_count": 74,
     "metadata": {},
     "output_type": "execute_result"
    }
   ],
   "source": [
    "submission = pd.read_csv(\"C:/Users/HP/Documents/ML/Py_Dataset/dont-overfit-ii/sample_submission.csv\")\n",
    "submission['target'] = pred\n",
    "submission.to_csv('C:/Users/HP/Documents/ML/Py_Dataset/dont-overfit-ii/submission_top10.csv', index=False)\n",
    "\n",
    "submission.head()"
   ]
  },
  {
   "cell_type": "code",
   "execution_count": 75,
   "metadata": {},
   "outputs": [
    {
     "data": {
      "text/plain": [
       "((19750, 1), (19750, 2))"
      ]
     },
     "execution_count": 75,
     "metadata": {},
     "output_type": "execute_result"
    }
   ],
   "source": [
    "y_validation.shape, submission.shape"
   ]
  }
 ],
 "metadata": {
  "kernelspec": {
   "display_name": "Python 3",
   "language": "python",
   "name": "python3"
  },
  "language_info": {
   "codemirror_mode": {
    "name": "ipython",
    "version": 3
   },
   "file_extension": ".py",
   "mimetype": "text/x-python",
   "name": "python",
   "nbconvert_exporter": "python",
   "pygments_lexer": "ipython3",
   "version": "3.7.1"
  }
 },
 "nbformat": 4,
 "nbformat_minor": 2
}
